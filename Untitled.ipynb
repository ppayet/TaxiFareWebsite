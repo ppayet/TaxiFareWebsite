{
 "cells": [
  {
   "cell_type": "code",
   "execution_count": 1,
   "id": "370d756d",
   "metadata": {},
   "outputs": [],
   "source": [
    "import datetime\n",
    "import requests"
   ]
  },
  {
   "cell_type": "code",
   "execution_count": 8,
   "id": "256a0a22",
   "metadata": {},
   "outputs": [
    {
     "data": {
      "text/plain": [
       "{'key': 'predict key',\n",
       " 'pickup_datetime': '2022-05-27 10:46:00',\n",
       " 'pickup_longitude': -74.00597,\n",
       " 'pickup_latitude': 40.71427,\n",
       " 'dropoff_longitude': -74.0156334,\n",
       " 'dropoff_latitude': 40.7055689,\n",
       " 'passenger_count': 1}"
      ]
     },
     "execution_count": 8,
     "metadata": {},
     "output_type": "execute_result"
    }
   ],
   "source": [
    "params={\n",
    "\"key\":\"predict key\",\n",
    "\"pickup_datetime\":\"2022-05-27 10:46:00\",\n",
    "\"pickup_longitude\":-74.00597,\n",
    "\"pickup_latitude\":40.71427,\n",
    "\"dropoff_longitude\":-74.0156334,\n",
    "\"dropoff_latitude\":40.7055689,\n",
    "\"passenger_count\":1\n",
    "}\n",
    "params"
   ]
  },
  {
   "cell_type": "code",
   "execution_count": 6,
   "id": "21e2e73f",
   "metadata": {},
   "outputs": [],
   "source": [
    "url = 'https://api-5vvrxbd5cq-ew.a.run.app//predict'"
   ]
  },
  {
   "cell_type": "code",
   "execution_count": 9,
   "id": "f2834c54",
   "metadata": {},
   "outputs": [],
   "source": [
    "api_data = requests.get(url,params)"
   ]
  },
  {
   "cell_type": "code",
   "execution_count": 12,
   "id": "e6c0539b",
   "metadata": {},
   "outputs": [
    {
     "data": {
      "text/plain": [
       "{'fare': 16.713394244117787}"
      ]
     },
     "execution_count": 12,
     "metadata": {},
     "output_type": "execute_result"
    }
   ],
   "source": [
    "api_data.json()"
   ]
  }
 ],
 "metadata": {
  "kernelspec": {
   "display_name": "Python 3 (ipykernel)",
   "language": "python",
   "name": "python3"
  },
  "language_info": {
   "codemirror_mode": {
    "name": "ipython",
    "version": 3
   },
   "file_extension": ".py",
   "mimetype": "text/x-python",
   "name": "python",
   "nbconvert_exporter": "python",
   "pygments_lexer": "ipython3",
   "version": "3.8.12"
  },
  "toc": {
   "base_numbering": 1,
   "nav_menu": {},
   "number_sections": true,
   "sideBar": true,
   "skip_h1_title": false,
   "title_cell": "Table of Contents",
   "title_sidebar": "Contents",
   "toc_cell": false,
   "toc_position": {},
   "toc_section_display": true,
   "toc_window_display": false
  }
 },
 "nbformat": 4,
 "nbformat_minor": 5
}
